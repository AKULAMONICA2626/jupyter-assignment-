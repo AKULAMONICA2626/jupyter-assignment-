{
 "cells": [
  {
   "cell_type": "markdown",
   "metadata": {},
   "source": [
    "hello sir how are u"
   ]
  },
  {
   "cell_type": "code",
   "execution_count": 5,
   "metadata": {},
   "outputs": [
    {
     "name": "stdout",
     "output_type": "stream",
     "text": [
      "enter the text = abc\n",
      "enter the shift key : 3\n",
      "the original string is: abc\n",
      "the encripted msg is: def\n"
     ]
    }
   ],
   "source": [
    "# c =(x-n)%26\n",
    "text=input(\"enter the text = \")\n",
    "s=int(input(\"enter the shift key : \"))\n",
    "\n",
    "\n",
    "def encripted (string,shift):\n",
    "   ciper = ''\n",
    "   for char in string:\n",
    "     if char=='':\n",
    "       ciper=ciper+char\n",
    "     elif char.isupper():\n",
    "       ciper=ciper+chr((ord(cord)+shift-65)%26+65)\n",
    "     else:\n",
    "       ciper=ciper+chr((ord(char)+shift-97)%26+97)\n",
    "   return ciper\n",
    "\n",
    "\n",
    "\n",
    "print(\"the original string is:\",text)\n",
    "print(\"the encripted msg is:\",encripted (text,s))"
   ]
  },
  {
   "cell_type": "markdown",
   "metadata": {},
   "source": [
    "this is the 3rd assignment ."
   ]
  },
  {
   "cell_type": "markdown",
   "metadata": {},
   "source": [
    "from akula monica"
   ]
  },
  {
   "cell_type": "code",
   "execution_count": null,
   "metadata": {},
   "outputs": [],
   "source": []
  }
 ],
 "metadata": {
  "kernelspec": {
   "display_name": "Python 3",
   "language": "python",
   "name": "python3"
  },
  "language_info": {
   "codemirror_mode": {
    "name": "ipython",
    "version": 3
   },
   "file_extension": ".py",
   "mimetype": "text/x-python",
   "name": "python",
   "nbconvert_exporter": "python",
   "pygments_lexer": "ipython3",
   "version": "3.7.6"
  }
 },
 "nbformat": 4,
 "nbformat_minor": 4
}
